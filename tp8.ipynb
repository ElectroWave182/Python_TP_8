{
 "cells": [
  {
   "cell_type": "markdown",
   "metadata": {},
   "source": [
    "# TP n°8 : while, hasard, listes de listes\n",
    "\n"
   ]
  },
  {
   "cell_type": "markdown",
   "metadata": {},
   "source": [
    "___________________________________________________________________________\n",
    "## Somme harmonique dépassant 18\n",
    "\n"
   ]
  },
  {
   "cell_type": "markdown",
   "metadata": {},
   "source": [
    "Trouver le plus petit entier `n` tel que $1+\\frac 12 +\\frac 13+\\dots +\\frac 1n > 18$.\n",
    "\n"
   ]
  },
  {
   "cell_type": "code",
   "execution_count": 2,
   "metadata": {},
   "outputs": [
    {
     "name": "stdout",
     "output_type": "stream",
     "text": [
      "36865413\n"
     ]
    }
   ],
   "source": [
    "def main():\n",
    "    n, somme = 1, 0\n",
    "    while somme <= 18:\n",
    "        somme += 1/n\n",
    "        n += 1\n",
    "    return n\n",
    "print(main())"
   ]
  },
  {
   "cell_type": "markdown",
   "metadata": {},
   "source": [
    "___________________________________________________________________________\n",
    "## Statistiques sur des contrôles\n",
    "\n"
   ]
  },
  {
   "cell_type": "markdown",
   "metadata": {},
   "source": [
    "Ci-dessous, le tableau des notes sur 20 de 12 étudiants aux 3 contrôles d'une UE :\n",
    "\n",
    "Id|Prénom|CC n°1|CC n°2|CC n°3\n",
    "---|---|---|---|---\n",
    "1|LEO|`12`|`5`|`11`\n",
    "2|MARC|`18`|`17`|`16`\n",
    "3|ANTOINE|`-1`|`9`|`-1`\n",
    "4|NATHAN|`8`|`12`|`15`\n",
    "5|KEVIN|`2`|`4`|`5`\n",
    "6|HUGO|`10`|`9`|`11`\n",
    "7|CHAIMAE|`7`|`7`|`5`\n",
    "8|JUSTINE|`20`|`20`|`20`\n",
    "9|LEA|`14`|`-1`|`-1`\n",
    "10|MARION|`5`|`8`|`13`\n",
    "11|AUDREY|`12`|`11`|`-1`\n",
    "12|LIONEL|`-1`|`5`|`-1`\n",
    "\n",
    "\n",
    "Lorsqu'un contrôle reçoit la valeur -1 c'est que l'étudiant est absent. Si un étudiant est absent à au moins un contrôle, il est considéré comme absent à l'UE et ne reçoit pas de moyenne. Noter qu'en fait les notes de chaque étudiant sont accessibles via un indice i qui varie entre 1 et le nombre `n` d'étudiants, dans l'exemple c'est `n=12`. Noter que les identifiants commencent à 1 et pas à 0.\n",
    "\n",
    "La liste des notes des étudiants de l'exemple est donnée dans la cellule ci-dessous. Le prénom des étudiants n'est pas utilisé, seul leur identifiant servira dans la suite. Noter que les notes du premier étudiant (indice 0) de la liste sont les notes de l'étudiant d'identifiant 1 (et non pas 0).\n",
    "\n",
    "    notes=[[12, 5,  11] ,\n",
    "    [18, 17, 16],\n",
    "    [-1, 9, -1],\n",
    "    [8, 12, 15],\n",
    "    [2, 4, 5],\n",
    "    [10, 10, 11],\n",
    "    [7, 7, 5],\n",
    "    [20, 20, 20],\n",
    "    [14, -1, -1],\n",
    "    [15, 18, 13],\n",
    "    [12, 11, -1],\n",
    "    [-1, 5, -1]]\n",
    "Dans les questions ci-dessous, votre code doit être capable de traiter les situations les plus générales : un nombre quelconque d'étudiants, un nombre quelconque de contrôles.\n",
    "\n"
   ]
  },
  {
   "cell_type": "markdown",
   "metadata": {},
   "source": [
    "1) Ecrire une fonction `moyenne(i, notes)` qui calcule la moyenne de l'étudiant d'identifiant donné $\\mathtt{i\\geq 1}$ dans une liste appelée `notes`. Dans l'exemple, Marc, d'identifiant 2, a 17 de moyenne donc `moyenne(2, notes)` renvoie 17.\n",
    "\n"
   ]
  },
  {
   "cell_type": "code",
   "execution_count": 5,
   "metadata": {},
   "outputs": [
    {
     "name": "stdout",
     "output_type": "stream",
     "text": [
      "17\n"
     ]
    }
   ],
   "source": [
    "def moyenne(i, notes):\n",
    "    etud = notes[i - 1]\n",
    "    if -1 in etud: return \"absent\"\n",
    "    return str(sum(etud)//len(etud))\n",
    "\n",
    "notes = [[12, 5, 11],\n",
    "[18, 17, 16],\n",
    "[-1, 9, -1],\n",
    "[8, 12, 15],\n",
    "[2, 4, 5],\n",
    "[10, 10, 11],\n",
    "[7, 7, 5],\n",
    "[20, 20, 20],\n",
    "[14, -1, -1],\n",
    "[15, 18, 13],\n",
    "[12, 11, -1],\n",
    "[-1, 5, -1]]\n",
    "print(moyenne(2, notes))"
   ]
  },
  {
   "cell_type": "markdown",
   "metadata": {},
   "source": [
    "2) Ecrire une fonction `absents(notes)` qui retourne une liste de listes, chaque liste donnant les identifiants des étudiants absents au 1er, 2e, etc contrôle. Dans l'exemple, `absents(notes)` renvoie la liste `[[3, 12], [9], [3, 9, 11, 12]]`.\n",
    "\n"
   ]
  },
  {
   "cell_type": "code",
   "execution_count": 23,
   "metadata": {},
   "outputs": [
    {
     "name": "stdout",
     "output_type": "stream",
     "text": [
      "[[3, 12], [9], [3, 9, 11, 12]]\n"
     ]
    }
   ],
   "source": [
    "def absent(notes):\n",
    "    AB = []\n",
    "    for z in range(len(notes[0])):\n",
    "        L = []\n",
    "        for y in range(len(notes)):\n",
    "            if notes[y][z] == -1:\n",
    "                L.append(y + 1)\n",
    "        AB.append(L)\n",
    "    return AB\n",
    "\n",
    "notes = [[12, 5, 11],\n",
    "[18, 17, 16],\n",
    "[-1, 9, -1],\n",
    "[8, 12, 15],\n",
    "[2, 4, 5],\n",
    "[10, 10, 11],\n",
    "[7, 7, 5],\n",
    "[20, 20, 20],\n",
    "[14, -1, -1],\n",
    "[15, 18, 13],\n",
    "[12, 11, -1],\n",
    "[-1, 5, -1]]\n",
    "print(absent(notes))"
   ]
  },
  {
   "cell_type": "markdown",
   "metadata": {},
   "source": [
    "3) Ecrire un fonction `moyenne_eme_controle(notes, nro)` qui renvoie la liste des id d'étudiants ayant eu au moins la note de 10 au contrôle identifié par le numéro valant `nro` (donc numéro 1 pour le premier contrôle, numéro 2 pour le deuxième, etc). Avec l'exemple ci-dessus et `nro=2`, on devra obtenir : `[2, 4, 6, 8, 10, 11]`.\n",
    "\n"
   ]
  },
  {
   "cell_type": "code",
   "execution_count": 26,
   "metadata": {},
   "outputs": [
    {
     "name": "stdout",
     "output_type": "stream",
     "text": [
      "2\n",
      "[2, 4, 6, 8, 10, 11]\n"
     ]
    }
   ],
   "source": [
    "def moy(notes, nro):\n",
    "    for etud in range(len(notes)):\n",
    "        if notes[etud][nro - 1] > 9: yield etud + 1\n",
    "\n",
    "notes = [[12, 5, 11],\n",
    "[18, 17, 16],\n",
    "[-1, 9, -1],\n",
    "[8, 12, 15],\n",
    "[2, 4, 5],\n",
    "[10, 10, 11],\n",
    "[7, 7, 5],\n",
    "[20, 20, 20],\n",
    "[14, -1, -1],\n",
    "[15, 18, 13],\n",
    "[12, 11, -1],\n",
    "[-1, 5, -1]]\n",
    "print(list(moy(notes, int(input()))))"
   ]
  },
  {
   "cell_type": "markdown",
   "metadata": {},
   "source": [
    "___________________________________________________________________________\n",
    "## Conjuguer un verbe du premier groupe\n",
    "\n"
   ]
  },
  {
   "cell_type": "markdown",
   "metadata": {},
   "source": [
    "On donne un verbe régulier du premier groupe (qui se terminer par **ER**), par exemple, *danser*. Ecrire un code qui affiche la conjugaison de ce verbe au présent de l'indicatif. Par exemple, avec *danser*, le code affichera :\n",
    "\n",
    "    je danse\n",
    "    tu danses\n",
    "    il/elle danse\n",
    "    nous dansons\n",
    "    vous dansez\n",
    "    ils/elles dansent\n",
    "On pourra créer une liste de terminaisons et une liste de pronoms.\n",
    "\n"
   ]
  },
  {
   "cell_type": "code",
   "execution_count": 7,
   "metadata": {},
   "outputs": [
    {
     "name": "stdout",
     "output_type": "stream",
     "text": [
      "nettoyer\n",
      "je nettoie\n",
      "tu nettoies\n",
      "il/elle nettoie\n",
      "nous nettoyons\n",
      "vous nettoyez\n",
      "ils/elles nettoient\n"
     ]
    }
   ],
   "source": [
    "def conj(infinitif):\n",
    "    radical = infinitif.rstrip(\"er\")\n",
    "    pro, term = [\"je \", \"tu \", \"il/elle \", \"nous \", \"vous \", \"ils/elles \"], [\"e\", \"es\", \"e\", \"ons\", \"ez\", \"ent\"]\n",
    "\n",
    "    if radical[-1] == \"g\": term[3] = \"eons\"\n",
    "    if radical[-1] == \"y\":\n",
    "        radical = radical.rstrip(\"y\")\n",
    "        term[0] = \"ie\"\n",
    "        term[1] = \"ies\"\n",
    "        term[2] = \"ie\"\n",
    "        term[3] = \"yons\"\n",
    "        term[4] = \"yez\"\n",
    "        term[5] = \"ient\"\n",
    "    if radical[-2:] == \"et\":\n",
    "        term[0] = \"te\"\n",
    "        term[1] = \"tes\"\n",
    "        term[2] = \"te\"\n",
    "        term[5] = \"tent\"\n",
    "    # Pour les verbes irréguliers tels que \"manger\", \"jeter\", ou encore \"nettoyer\"\n",
    "\n",
    "    for pers in range(6):\n",
    "        print(pro[pers] + radical + term[pers])\n",
    "\n",
    "conj(input())"
   ]
  },
  {
   "cell_type": "markdown",
   "metadata": {},
   "source": [
    "___________________________________________________________________________\n",
    "## Lancers de dé\n",
    "\n"
   ]
  },
  {
   "cell_type": "markdown",
   "metadata": {},
   "source": [
    "1) Ecrire une fonction `lancer_un_de` qui simule un coup de dé.\n",
    "\n"
   ]
  },
  {
   "cell_type": "code",
   "execution_count": 44,
   "metadata": {
    "scrolled": false
   },
   "outputs": [
    {
     "name": "stdout",
     "output_type": "stream",
     "text": [
      "5\n"
     ]
    }
   ],
   "source": [
    "from random import randint\n",
    "def de():\n",
    "    return randint(1, 6)\n",
    "print(de())"
   ]
  },
  {
   "cell_type": "markdown",
   "metadata": {},
   "source": [
    "2) Ecrire une fonction `lancers` qui effectue $n$ lancers de dés en utilisant la fonction `lancer_un_de` et renvoie une liste `resultats` de 7 éléments tels que si $i$ est un entier entre 1 et 6 alors `resultats[i]` est le nombre de fois que le dé à sorti la valeur $i$. Le premier élément de resultat sera arbitrairement fixé à 0.\n",
    "\n",
    "Tester pour $n$ valant 1 million.\n",
    "\n"
   ]
  },
  {
   "cell_type": "code",
   "execution_count": 45,
   "metadata": {},
   "outputs": [
    {
     "name": "stdout",
     "output_type": "stream",
     "text": [
      "[0, 166259, 166405, 166723, 166817, 166482, 167314]\n"
     ]
    }
   ],
   "source": [
    "from random import randint\n",
    "def de():\n",
    "    return randint(1, 6)\n",
    "def lancers(n):\n",
    "    resultat = [0]*7\n",
    "    for _ in range(n):\n",
    "        resultat[de()] += 1\n",
    "    return resultat\n",
    "print(lancers(1000*1000))"
   ]
  },
  {
   "cell_type": "markdown",
   "metadata": {},
   "source": [
    "___________________________________________________________________________\n",
    "## Pas d'impair\n",
    "\n"
   ]
  },
  {
   "cell_type": "markdown",
   "metadata": {},
   "source": [
    "Soit une liste `L` formée d'entiers. Écrire, à l'aide d'une boucle `while`, un booléen `queDesPairs` traduisant que `L` ne contient que des entiers pairs.\n",
    "\n",
    "Comportement attendu :\n",
    "\n",
    "    [82, 31, 82] -> False\n",
    "    [82, 12, 46] -> True\n",
    "    [82] -> True\n",
    "    [81] -> False\n"
   ]
  },
  {
   "cell_type": "code",
   "execution_count": 46,
   "metadata": {},
   "outputs": [
    {
     "name": "stdout",
     "output_type": "stream",
     "text": [
      "False\n",
      "True\n",
      "True\n",
      "False\n"
     ]
    }
   ],
   "source": [
    "def parite(l):\n",
    "    queDesPairs = True\n",
    "    while l != []:\n",
    "        queDesPairs = queDesPairs and l[0] % 2 == 0\n",
    "        del l[0]\n",
    "    return queDesPairs\n",
    "\n",
    "print(parite([82, 31, 82]))\n",
    "print(parite([82, 12, 46]))\n",
    "print(parite([82]))\n",
    "print(parite([81]))"
   ]
  },
  {
   "cell_type": "markdown",
   "metadata": {},
   "source": [
    "___________________________________________________________________________\n",
    "## Mots en lignes, en colonnes\n",
    "\n"
   ]
  },
  {
   "cell_type": "markdown",
   "metadata": {},
   "source": [
    "On donne une liste de mots, tous de même longueur. On demande d'afficher les mots, sous forme de tableau 2D et des deux façons suivantes :\n",
    "\n",
    "\n",
    "- les mots sont écrits horizontalement\n",
    "\n",
    "- les mots sont écrits verticalement, avec un trait vertical entre chaque colonne\n",
    "\n",
    "Par exemple, si la liste des mots est :\n",
    "\n"
   ]
  },
  {
   "cell_type": "code",
   "execution_count": null,
   "metadata": {},
   "outputs": [],
   "source": [
    "mots = [\"POIRE\", \"SAVON\", \"LAVER\", \"LABEL\"]\n"
   ]
  },
  {
   "cell_type": "markdown",
   "metadata": {},
   "source": [
    "alors l'affichage horizontal sera :\n",
    "\n"
   ]
  },
  {
   "cell_type": "code",
   "execution_count": null,
   "metadata": {},
   "outputs": [],
   "source": [
    "POIRE\n",
    "SAVON\n",
    "LAVER\n",
    "LABEL\n"
   ]
  },
  {
   "cell_type": "markdown",
   "metadata": {},
   "source": [
    "et l'affichage vertical sera :\n",
    "\n"
   ]
  },
  {
   "cell_type": "code",
   "execution_count": null,
   "metadata": {},
   "outputs": [],
   "source": [
    "P|S|L|L|\n",
    "O|A|A|A|\n",
    "I|V|V|B|\n",
    "R|O|E|E|\n",
    "E|N|R|L|\n"
   ]
  },
  {
   "cell_type": "markdown",
   "metadata": {},
   "source": [
    "Un trait vertical s'obtient avec la combinaison `Alt Gr + 8`.\n",
    "\n"
   ]
  },
  {
   "cell_type": "code",
   "execution_count": 48,
   "metadata": {},
   "outputs": [
    {
     "name": "stdout",
     "output_type": "stream",
     "text": [
      "POIRE\n",
      "SAVON\n",
      "LAVER\n",
      "LABEL\n",
      "P|S|L|L\n",
      "O|A|A|A\n",
      "I|V|V|B\n",
      "R|O|E|E\n",
      "E|N|R|L\n"
     ]
    }
   ],
   "source": [
    "# Sur la plupart des claviers, le trait vertical s'obient à l'aide de \"Alt Gr + 6\"\n",
    "\n",
    "def horizontal(mots):\n",
    "    print(\"\\n\".join(mots))\n",
    "def vertical(mots):\n",
    "    for lettre in range(len(mots[0])):\n",
    "        print(\"|\".join([mot[lettre] for mot in mots]))\n",
    "\n",
    "horizontal([\"POIRE\", \"SAVON\", \"LAVER\", \"LABEL\"])\n",
    "vertical([\"POIRE\", \"SAVON\", \"LAVER\", \"LABEL\"])"
   ]
  },
  {
   "cell_type": "markdown",
   "metadata": {},
   "source": [
    "___________________________________________________________________________\n",
    "## Divisions successives par deux\n",
    "\n"
   ]
  },
  {
   "cell_type": "markdown",
   "metadata": {},
   "source": [
    "On part d'un entier `n>1` et s'il est pair, on le divise par 2 et s'il est impair, on lui ajoute 1 et on divise par 2. Si par exemple `n=42` on obtient 21 et si `n=99` on obtient 50.\n",
    "\n",
    "Maintenant, on répète ce procédé jusqu'à ce que le nombre obtenu vaille 1. On demande d'écrire un code qui détermine le nombre de divisions effectuées.\n",
    "\n",
    "Par exemple, si `n=25`, les différentes étapes seront :\n",
    "\n",
    "    13\n",
    "    7\n",
    "    4\n",
    "    2\n",
    "    1\n",
    "et le nombre de divisions effectuées est 5.\n",
    "\n"
   ]
  },
  {
   "cell_type": "code",
   "execution_count": 49,
   "metadata": {},
   "outputs": [
    {
     "name": "stdout",
     "output_type": "stream",
     "text": [
      "5\n"
     ]
    }
   ],
   "source": [
    "def success(n):\n",
    "    cpt = 0\n",
    "    while n != 1:\n",
    "        if n % 2 == 1: n += 1\n",
    "        n //= 2\n",
    "        cpt += 1\n",
    "    return cpt\n",
    "print(success(25))"
   ]
  },
  {
   "cell_type": "markdown",
   "metadata": {},
   "source": [
    "___________________________________________________________________________\n",
    "## Séparer suivant la parité des valeurs\n",
    "\n"
   ]
  },
  {
   "cell_type": "markdown",
   "metadata": {},
   "source": [
    "On donne une liste `L` d'entiers et on demande de construire une liste `P=[L0, L1]` où `L0` est la liste (éventuellement vide) des entiers pairs de `L`, placés dans leur ordre d'apparition dans `L` et, de même, `L1` est la liste des entiers impairs de `L`.\n",
    "\n",
    "Par exemple, si `L=[42, 81, 31, 82, 81, 65, 9]` alors `P=[[42, 82], [81, 31, 81, 65, 9]]`.\n",
    "\n",
    "On construira une fonction `separer(L)` qui renverra `P`.\n",
    "\n"
   ]
  },
  {
   "cell_type": "code",
   "execution_count": 52,
   "metadata": {},
   "outputs": [
    {
     "name": "stdout",
     "output_type": "stream",
     "text": [
      "[[42, 82], [81, 31, 81, 65, 9]]\n"
     ]
    }
   ],
   "source": [
    "def boucle(l, reste):\n",
    "    return [ent for ent in l if ent % 2 == reste]\n",
    "def separer(l):\n",
    "    return [boucle(l, 0), boucle(l, 1)]\n",
    "print(separer([42, 81, 31, 82, 81, 65, 9]))"
   ]
  },
  {
   "cell_type": "markdown",
   "metadata": {},
   "source": [
    "___________________________________________________________________________\n",
    "## Bijou, caillou, etc\n",
    "\n"
   ]
  },
  {
   "cell_type": "markdown",
   "metadata": {},
   "source": [
    "On donne, sous forme de chaîne de caractères alphabétiques majuscules, un nom commun, au singulier, par exemple le mot **POIRE**. On demande d'afficher ce mot au pluriel en ajoutant un `s` sauf si le nom fait partie de la liste d'exceptions suivantes :\n",
    "\n"
   ]
  },
  {
   "cell_type": "code",
   "execution_count": null,
   "metadata": {},
   "outputs": [],
   "source": [
    "BIJOU, CAILLOU, CHOU, GENOU, HIBOU, JOUJOU, POU\n"
   ]
  },
  {
   "cell_type": "markdown",
   "metadata": {},
   "source": [
    "Par exemple, si le mot est **POIRE**, il faudra construire le mots **POIRES** et si le mot est **CHOU**, il faudra construire le mots **CHOUX**. On écrira une fonction `pluriel(nom)` qui renverra le mot au pluriel.\n",
    "\n"
   ]
  },
  {
   "cell_type": "code",
   "execution_count": 55,
   "metadata": {},
   "outputs": [
    {
     "name": "stdout",
     "output_type": "stream",
     "text": [
      "POIRE\n",
      "POIRES\n",
      "CHOU\n",
      "CHOUX\n"
     ]
    }
   ],
   "source": [
    "def pluriel(nom):\n",
    "    irr = [\"BIJOU\", \"CAILLOU\", \"CHOU\", \"GENOU\", \"HIBOU\", \"JOUJOU\", \"POU\"]\n",
    "    if nom in irr: return nom + \"X\"\n",
    "    return nom + \"S\"\n",
    "\n",
    "print(pluriel(input()))\n",
    "print(pluriel(input()))"
   ]
  },
  {
   "cell_type": "markdown",
   "metadata": {},
   "source": [
    "___________________________________________________________________________\n",
    "## Alternance de parité, version `while`\n",
    "\n"
   ]
  },
  {
   "cell_type": "markdown",
   "metadata": {},
   "source": [
    "On donne une liste L d'entiers et on demande de créer un booléen **alterneParite** valant `True` si les éléments de L se suivent en alternant de parité et `False` sinon. On utilisera une boucle `while`. Voici des exemples de comportements attendus :\n",
    "\n",
    "`L`|Alternance de parité\n",
    "---|---\n",
    "`[81, 32, 9, 12]`|`True`\n",
    "`[32, 9, 32, 65]`|`True`\n",
    "`[32, 9, 31, 82]`|`False`\n",
    "`[81]`|`True`\n",
    "\n",
    "\n"
   ]
  },
  {
   "cell_type": "code",
   "execution_count": 62,
   "metadata": {},
   "outputs": [
    {
     "name": "stdout",
     "output_type": "stream",
     "text": [
      "True\n",
      "True\n",
      "False\n",
      "True\n"
     ]
    }
   ],
   "source": [
    "\"\"\"\n",
    "Pour éviter des opérations futiles dans la boucle \"while\",\n",
    "l'on décale le reste voulu de 1 (s'il est à 0, on le met à 1, sinon à 0)\n",
    "au début du programme dans la variable \"mal\" (car c'est le mauvais reste) ;\n",
    "il suffit ensuite de tester dans la boucle si\n",
    "le reste étudié est différent de \"mal\".\n",
    "                    ---------\n",
    "\"\"\"\n",
    "\n",
    "def alter(l):\n",
    "    mal, alterneParite = (l[0] + 1) % 2, True\n",
    "    while l != []:\n",
    "        reste = l[0] % 2\n",
    "        alterneParite, mal = alterneParite and reste != mal, reste\n",
    "        del l[0]\n",
    "    return alterneParite\n",
    "\n",
    "print(alter([81, 32, 9, 12]))\n",
    "print(alter([32, 9, 32, 65]))\n",
    "print(alter([32, 9, 31, 82]))\n",
    "print(alter([81]))"
   ]
  },
  {
   "cell_type": "markdown",
   "metadata": {},
   "source": [
    "___________________________________________________________________________\n",
    "## Liste des diviseurs\n",
    "\n"
   ]
  },
  {
   "cell_type": "markdown",
   "metadata": {},
   "source": [
    "1) On donne une liste `L` d'entiers strictement positifs et on demande d'écrire un code qui génère une liste `D` des listes de diviseurs de chaque entier de `L`. On rappelle que `d` est un diviseur de `N` signifie juste que `N` est un multiple de `d` autrement dit que $\\mathtt{N=d\\times q}$ pour un certain entier `q`. Par exemple, si `L=[2019,2027, 43, 25]` alors\n",
    "\n",
    "`D=[[1, 3, 673, 2019], [1, 2027], [1, 43], [1, 5, 25]]`.\n",
    "\n",
    "On écrira une fonction `div(L)`. Les diviseurs apparaîtront dans l'ordre croissant.\n",
    "\n"
   ]
  },
  {
   "cell_type": "code",
   "execution_count": 68,
   "metadata": {},
   "outputs": [
    {
     "name": "stdout",
     "output_type": "stream",
     "text": [
      "[[1, 3, 673, 2019], [1, 2027], [1, 43], [1, 5, 25]]\n"
     ]
    }
   ],
   "source": [
    "def diviseurs(nb):\n",
    "    racine = nb**0.5\n",
    "    doublon = int(racine)\n",
    "    liste = sorted(list(map(int, \" \".join([str(div) + \" \" + str(nb // div) for div in range(1, int(racine + 1)) if nb % div == 0]).split())))\n",
    "    # C'est pas très lisible tout ça...\n",
    "    if racine == doublon: liste.remove(doublon)\n",
    "    return liste\n",
    "def div(l):\n",
    "    return [diviseurs(n) for n in l]\n",
    "print(div([2019, 2027, 43, 25]))"
   ]
  },
  {
   "cell_type": "markdown",
   "metadata": {},
   "source": [
    "2) Utiliser la fonction précédente pour générer une liste `P` des nombres premiers de `L`. On rappelle qu'un nombre premier `p` (par exemple 43 mais pas 42) est un entier `p>1` et admettant exactement **deux** diviseurs strictement positifs, à savoir lui-même `p` et 1.  Dans l'exemple ci-dessus, on obtiendra que `P=[2027, 43]`.\n",
    "\n"
   ]
  },
  {
   "cell_type": "code",
   "execution_count": 71,
   "metadata": {},
   "outputs": [
    {
     "name": "stdout",
     "output_type": "stream",
     "text": [
      "[2027, 43]\n",
      "[2027, 43]\n"
     ]
    }
   ],
   "source": [
    "def diviseurs(nb):\n",
    "    racine = nb**0.5\n",
    "    doublon = int(racine)\n",
    "    liste = sorted(list(map(int, \" \".join([str(div) + \" \" + str(nb // div) for div in range(1, int(racine + 1)) if nb % div == 0]).split())))\n",
    "    if racine == doublon: liste.remove(doublon)\n",
    "    return liste\n",
    "def div(l):\n",
    "    return [diviseurs(n) for n in l]\n",
    "\n",
    "# Avec la fonction \"div\"\n",
    "def premier1(l1):\n",
    "    for diviseur in div(l1):\n",
    "        if len(diviseur) == 2: yield diviseur[-1]\n",
    "print(list(premier1([2019, 2027, 43, 25])))\n",
    "\n",
    "# Sans la fonction \"div\"\n",
    "def premier2(l2):\n",
    "    for nb in l2:\n",
    "        if len(diviseurs(nb)) == 2: yield nb\n",
    "print(list(premier2([2019, 2027, 43, 25])))"
   ]
  },
  {
   "cell_type": "markdown",
   "metadata": {},
   "source": [
    "___________________________________________________________________________\n",
    "## Découper en mots\n",
    "\n"
   ]
  },
  {
   "cell_type": "markdown",
   "metadata": {},
   "source": [
    "On donne une chaîne de caractères `s` et on demande de construire la liste des mots apparaissant dans cette, en respectant leur ordre d'apparition. Par exemple, si la chaîne est\n",
    "\n"
   ]
  },
  {
   "cell_type": "code",
   "execution_count": null,
   "metadata": {},
   "outputs": [],
   "source": [
    "s=\"l'artichaut, le chou-fleur, la poire d'italie ...\"\n",
    "\n",
    "ALPHA=\"azertyuiopmlkjhgfdsqwxcvbn\"\n",
    "mots=[]\n",
    "mot=\"\"\n",
    "for c in s:\n",
    "    if c not in ALPHA and len(mot)>0:\n",
    "        mots.append(mot)\n",
    "        mot=\"\"\n",
    "    elif c in ALPHA:\n",
    "        mot=mot+c\n",
    "if len(mot)>0:\n",
    "    mots.append(mot)\n",
    "print(mots)"
   ]
  },
  {
   "cell_type": "markdown",
   "metadata": {},
   "source": [
    "la liste des mots à afficher sera :\n",
    "\n"
   ]
  },
  {
   "cell_type": "code",
   "execution_count": null,
   "metadata": {},
   "outputs": [],
   "source": [
    "['l', 'artichaut', 'le', 'chou', 'fleur', 'la', 'poire', 'd', 'italie']\n"
   ]
  },
  {
   "cell_type": "markdown",
   "metadata": {},
   "source": [
    "Pour simplifier, uUn mot sera une suite de la chaîne `s` formée uniquement de caractères alphabétiques minuscules. On pourra utiliser la chaîne suivante\n",
    "\n"
   ]
  },
  {
   "cell_type": "code",
   "execution_count": null,
   "metadata": {},
   "outputs": [],
   "source": [
    "ALPHA=\"azertyuiopmlkjhgfdsqwxcvbn\"\n"
   ]
  },
  {
   "cell_type": "code",
   "execution_count": 4,
   "metadata": {},
   "outputs": [
    {
     "name": "stdout",
     "output_type": "stream",
     "text": [
      "\"l'artichaut, le chou-fleur, la poire d'italie ...\"\n",
      "['l', 'artichaut', 'le', 'chou', 'fleur', 'la', 'poire', 'd', 'italie']\n"
     ]
    }
   ],
   "source": [
    "from string import ascii_lowercase\n",
    "def mots(chaine):\n",
    "    alpha, rangMot, liste, prec = ascii_lowercase, 0, [\"\"], False\n",
    "    for char in chaine:\n",
    "        if char in alpha: \n",
    "            prec = True\n",
    "            liste[rangMot] += char\n",
    "        elif prec:\n",
    "            prec = False\n",
    "            rangMot += 1\n",
    "            liste.append(\"\")\n",
    "    liste.remove(\"\")\n",
    "    return liste\n",
    "print(mots(input()))"
   ]
  },
  {
   "cell_type": "markdown",
   "metadata": {},
   "source": [
    "___________________________________________________________________________\n",
    "## Construire le tableau de Pascal\n",
    "\n"
   ]
  },
  {
   "cell_type": "markdown",
   "metadata": {},
   "source": [
    "Soit le fameux tableau de Pascal :\n",
    "\n",
    "![](triangle_pascal.png)\n",
    "\n",
    "Chaque ligne du tableau de Pascal sera vue comme une liste, par exemple la 4e ligne du tableau de Pascal est la liste `L=[1, 3, 3, 1]`.\n",
    "\n",
    "On se donne un entier  $\\mathtt{n}\\geq 0$ et on cherche à écrire une fonction `pascal(n)` qui renvoie les  $\\mathtt{n+1}$ premières lignes du tableau de Pascal. Par exemple, si `n=3` alors\n",
    "\n",
    "`P=[1] [1, 1] [1, 2, 1] [1, 3, 3, 1] [1, 4, 6, 4, 1]`\n",
    "\n",
    "Il pourra être utile de remarquer que la `n`-ème ligne du tableau de Pascal\n",
    "\n",
    "\n",
    "- admet pour extrémités l'entier 1\n",
    "\n",
    "- contient `n` éléments.\n",
    "\n"
   ]
  },
  {
   "cell_type": "markdown",
   "metadata": {},
   "source": [
    "1) Ecrire une fonction `ligneSuivante(L)` qui, si elle reçoit en argument une ligne `L` du tableau de Pascal alors elle renvoie la ligne suivante dans le tableau. Par exemple, si `L=[1, 3, 3, 1]` alors `ligneSuivante(L)` sera la ligne `[1, 4, 6, 4, 1]`. Bien comprendre que cette fonction n'a nullement besoin de savoir **quel est le numéro de la ligne qui lui est passé en argument**.\n",
    "\n"
   ]
  },
  {
   "cell_type": "code",
   "execution_count": 3,
   "metadata": {},
   "outputs": [
    {
     "name": "stdout",
     "output_type": "stream",
     "text": [
      "[1, 4, 6, 4, 1]\n"
     ]
    }
   ],
   "source": [
    "def suiv(l1):\n",
    "    prec, l2 = 0, []\n",
    "    l1.append(0)\n",
    "    for nb in l1:\n",
    "        l2.append(prec + nb)\n",
    "        prec = nb\n",
    "    return l2\n",
    "\n",
    "print(suiv([1, 3, 3, 1]))"
   ]
  },
  {
   "cell_type": "markdown",
   "metadata": {},
   "source": [
    "2) En déduire une fonction `pascal(n)` qui renvoie les $\\mathtt{n+1}$ premières lignes du tableau de Pascal sous forme d'une liste de listes.\n",
    "\n"
   ]
  },
  {
   "cell_type": "code",
   "execution_count": 6,
   "metadata": {},
   "outputs": [
    {
     "name": "stdout",
     "output_type": "stream",
     "text": [
      "[[1], [1, 1], [1, 2, 1], [1, 3, 3, 1], [1, 4, 6, 4, 1], [1, 5, 10, 10, 5, 1], [1, 6, 15, 20, 15, 6, 1]]\n"
     ]
    }
   ],
   "source": [
    "def suiv(l1):\n",
    "    prec, l2 = 0, []\n",
    "    l1.append(0)\n",
    "    for nb in l1:\n",
    "        l2.append(prec + nb)\n",
    "        prec = nb\n",
    "    return l2\n",
    "\n",
    "def pascal(n):\n",
    "    ligne = [1]\n",
    "    for _ in range(n + 1):\n",
    "        yield ligne[:]\n",
    "        ligne = suiv(ligne)\n",
    "\n",
    "print(list(pascal(6)))"
   ]
  },
  {
   "cell_type": "markdown",
   "metadata": {},
   "source": [
    "3) On rappelle que  le coefficient binomial $\\displaystyle{\\displaystyle{n}\\choose{\\displaystyle p}}$ est le coefficient situé à la ligne d'indice $n$ et à la colonne d'indice $p$ du tableau, en supposant que lignes et colonnes soient indexées à partir de 0, comme dans la figure ci-dessus. Par exemple, $\\displaystyle{\\displaystyle{7}\\choose{\\displaystyle 4}}=35$.\n",
    "\n",
    "Ecrire une fonction `binomial(n,p)` qui renvoie le coefficient binomial $\\displaystyle{\\displaystyle{n}\\choose{\\displaystyle p}}$ . Cette fonction devra obligatoirement utiliser la fonction `pascal()`.\n",
    "\n",
    "Calculer $\\displaystyle{\\displaystyle{2024}\\choose{\\displaystyle 1012}}$.\n",
    "\n"
   ]
  },
  {
   "cell_type": "code",
   "execution_count": 9,
   "metadata": {},
   "outputs": [
    {
     "name": "stdout",
     "output_type": "stream",
     "text": [
      "35\n",
      "34157996383032811899231853655230669627214575021201656640985590632217311466360598411778255340510250089781857819194999535596364340860180441272634489373964945450468315549010698342454431694403904801782593051494296092651823293734684734560462862644753709357904527040757282792049449344265235304958130664524725355880518666486824245516941682600220128112475322841986751438762932928142862343518616089043581115367300929404590139889050866029729598472686783606390983421016880520493006372545865577622469461293860789337134297648244276169723238376800323858581724187513570229084423781862897942865672292828388252442394215150720\n"
     ]
    }
   ],
   "source": [
    "def suiv(l1):\n",
    "    prec, l2 = 0, []\n",
    "    l1.append(0)\n",
    "    for nb in l1:\n",
    "        l2.append(prec + nb)\n",
    "        prec = nb\n",
    "    return l2\n",
    "\n",
    "def pascal(n):\n",
    "    ligne = [1]\n",
    "    for _ in range(n + 1):\n",
    "        yield ligne[:]\n",
    "        ligne = suiv(ligne)\n",
    "\n",
    "def binomial(n, p):\n",
    "    return list(pascal(n))[n][p]\n",
    "\n",
    "print(binomial(7, 4))\n",
    "print(binomial(2024, 1012))"
   ]
  }
 ],
 "metadata": {
  "kernelspec": {
   "display_name": "Python 3",
   "language": "python",
   "name": "python3"
  },
  "language_info": {
   "codemirror_mode": {
    "name": "ipython",
    "version": 3
   },
   "file_extension": ".py",
   "mimetype": "text/x-python",
   "name": "python",
   "nbconvert_exporter": "python",
   "pygments_lexer": "ipython3",
   "version": "3.8.5"
  }
 },
 "nbformat": 4,
 "nbformat_minor": 1
}
